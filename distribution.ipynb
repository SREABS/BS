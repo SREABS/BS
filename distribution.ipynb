{
 "cells": [
  {
   "cell_type": "code",
   "execution_count": null,
   "metadata": {},
   "outputs": [],
   "source": [
    "import blocksci\n",
    "import pandas as pd\n",
    "from datetime import datetime, timedelta\n",
    "import pickle\n",
    "\n",
    "chain = blocksci.Blockchain(\"../conf.json\")\n",
    "dx = pd.read_excel('data.xlsx')\n",
    "datar = []\n",
    "for i in range(len(dx)):\n",
    "    tmp = [dx[\"ID\"][i], dx[\"Value\"][i], dx[\"Date\"][i]]\n",
    "    ttmp = datetime.strptime(str(tmp[2]), \"%Y%m%d\")\n",
    "    tmp[2] = ttmp\n",
    "    datar.append(tmp)\n",
    "data = []\n",
    "for v in datar:\n",
    "    if v not in data:\n",
    "        data.append(v)\n",
    "data_t = []\n",
    "for d in data:\n",
    "    data_t.append(d[2])\n",
    "start = min(data_t)\n",
    "end = max(data_t)\n",
    "\n",
    "block = chain.range(start, end)"
   ]
  },
  {
   "cell_type": "markdown",
   "metadata": {},
   "source": [
    "# Transaction Distribution"
   ]
  },
  {
   "cell_type": "markdown",
   "metadata": {},
   "source": [
    "Coinbase Transaction"
   ]
  },
  {
   "cell_type": "code",
   "execution_count": null,
   "metadata": {},
   "outputs": [],
   "source": [
    "#mining TX\n",
    "ctxo = block.coinbase_tx.outputs"
   ]
  },
  {
   "cell_type": "code",
   "execution_count": null,
   "metadata": {},
   "outputs": [],
   "source": [
    "count = 0\n",
    "for co in ctxo:\n",
    "    coa = co.address\n",
    "    if coa.full_type != \"nulldata\":\n",
    "        if coa.first_tx.index == co.tx_index:\n",
    "            count += 1\n",
    "print(count)"
   ]
  },
  {
   "cell_type": "code",
   "execution_count": null,
   "metadata": {},
   "outputs": [],
   "source": [
    "c_address = []\n",
    "for co in ctxo:\n",
    "    coa = co.address\n",
    "    if coa.full_type != \"nulldata\":\n",
    "        if coa not in c_address:\n",
    "            c_address.append(coa)\n",
    "print(len(c_address))"
   ]
  },
  {
   "cell_type": "code",
   "execution_count": null,
   "metadata": {},
   "outputs": [],
   "source": [
    "#miner cluster\n",
    "cil = []\n",
    "for co in ctxo:\n",
    "    coa = co.address\n",
    "    if coa.full_type != \"nulldata\":\n",
    "        cluster = cm.cluster_with_address(coa)\n",
    "        ci = cluster.index\n",
    "        if ci not in cil:\n",
    "            cil.append(ci)\n",
    "print(len(cil))"
   ]
  },
  {
   "cell_type": "code",
   "execution_count": null,
   "metadata": {},
   "outputs": [],
   "source": [
    "#mine reward distribution\n",
    "co_value = []\n",
    "for co in ctxo:\n",
    "    if co.value != 0:\n",
    "        co_value.append(co.value)\n",
    "print(len(co_value))"
   ]
  },
  {
   "cell_type": "code",
   "execution_count": null,
   "metadata": {},
   "outputs": [],
   "source": [
    "with open('co_value.txt', 'w') as filehandle:\n",
    "    for co_v in co_value:\n",
    "        filehandle.write('%d\\n' % co_v)"
   ]
  },
  {
   "cell_type": "code",
   "execution_count": null,
   "metadata": {},
   "outputs": [],
   "source": [
    "len(block.coinbase_tx.hash) / sum(block.tx_count)"
   ]
  },
  {
   "cell_type": "markdown",
   "metadata": {},
   "source": [
    "Relay"
   ]
  },
  {
   "cell_type": "code",
   "execution_count": null,
   "metadata": {},
   "outputs": [],
   "source": [
    "rtxs = block.txes.where(lambda t: t.input_count == 1)\n",
    "rtxss = rtxs.where(lambda t: t.output_count == 1)"
   ]
  },
  {
   "cell_type": "code",
   "execution_count": null,
   "metadata": {},
   "outputs": [],
   "source": [
    "rov = rtxss.output_value\n",
    "with open(\"rov.pickle\", \"wb\") as f:\n",
    "    pickle.dump(rov, f, pickle.HIGHEST_PROTOCOL)"
   ]
  },
  {
   "cell_type": "code",
   "execution_count": null,
   "metadata": {},
   "outputs": [],
   "source": [
    "rov"
   ]
  },
  {
   "cell_type": "code",
   "execution_count": null,
   "metadata": {},
   "outputs": [],
   "source": [
    "rto_address = []\n",
    "count = 0\n",
    "\n",
    "for rto in rtxss.outs:\n",
    "    rtoa = rto.address\n",
    "    if rtoa.first_tx.index == rto.tx_index:\n",
    "        count += 1\n",
    "    rto_address.append(rtoa)\n",
    "\n",
    "print(\"count :\" +str(count))\n",
    "print(len(list(set(rto_address))))"
   ]
  },
  {
   "cell_type": "markdown",
   "metadata": {},
   "source": [
    "Peel Transaction"
   ]
  },
  {
   "cell_type": "code",
   "execution_count": null,
   "metadata": {},
   "outputs": [],
   "source": [
    "ptxs = block.txes.where(lambda t: t.output_count == 2)\n",
    "count = 0\n",
    "for ptx in ptxs:\n",
    "    count += 1\n",
    "    \n",
    "print(count)"
   ]
  },
  {
   "cell_type": "code",
   "execution_count": null,
   "metadata": {},
   "outputs": [],
   "source": [
    "ptxs = block.txes.where(lambda t: t.output_count == 2)\n",
    "\n",
    "feelist = ptxs.fee\n",
    "    \n",
    "print(min(feelist))\n",
    "print(max(feelist))\n"
   ]
  },
  {
   "cell_type": "code",
   "execution_count": null,
   "metadata": {},
   "outputs": [],
   "source": [
    "print(sum(feelist)/len(feelist))"
   ]
  },
  {
   "cell_type": "code",
   "execution_count": null,
   "metadata": {},
   "outputs": [],
   "source": [
    "ptxs = block.txes.where(lambda t: t.output_count == 2)\n",
    "ptxs = ptxs.where(lambda t: t.input_count == 1)\n",
    "\n",
    "ptxov = []\n",
    "for ptx in ptxs:\n",
    "    temp = []\n",
    "    for pto in ptx.outputs:\n",
    "        temp.append(pto.value)\n",
    "    ptxov.append(temp)\n",
    "    \n",
    "with open(\"ptx1ov.pickle\", \"wb\") as f:\n",
    "    pickle.dump(ptxov, f, pickle.HIGHEST_PROTOCOL)"
   ]
  },
  {
   "cell_type": "code",
   "execution_count": null,
   "metadata": {},
   "outputs": [],
   "source": [
    "ptxs = block.txes.where(lambda t: t.output_count == 2)\n",
    "ptxs = ptxs.where(lambda t: t.input_count == 1)\n",
    "\n",
    "ptxiv = []\n",
    "for ptx in ptxs:\n",
    "    temp = []\n",
    "    for pti in ptx.inputs:\n",
    "        temp.append(pti.value)\n",
    "    ptxiv.append(temp)\n",
    "    \n",
    "with open(\"ptx1iv.pickle\", \"wb\") as f:\n",
    "    pickle.dump(ptxiv, f, pickle.HIGHEST_PROTOCOL)"
   ]
  },
  {
   "cell_type": "code",
   "execution_count": null,
   "metadata": {},
   "outputs": [],
   "source": [
    "ptxs = block.txes.where(lambda t: t.output_count == 2)\n",
    "ptxs = ptxs.where(lambda t: t.input_count > 1)\n",
    "\n",
    "ptxiv = []\n",
    "for ptx in ptxs:\n",
    "    temp = []\n",
    "    for pti in ptx.inputs:\n",
    "        temp.append(pti.value)\n",
    "    ptxiv.append(temp)\n",
    "    \n",
    "with open(\"ptxiv.pickle\", \"wb\") as f:\n",
    "    pickle.dump(ptxiv, f, pickle.HIGHEST_PROTOCOL)"
   ]
  },
  {
   "cell_type": "code",
   "execution_count": null,
   "metadata": {},
   "outputs": [],
   "source": [
    "ptxs = block.txes.where(lambda t: t.output_count == 2)\n",
    "ptxs = ptxs.where(lambda t: t.input_count > 1)\n",
    "\n",
    "ptxov = []\n",
    "for ptx in ptxs:\n",
    "    temp = []\n",
    "    for pto in ptx.outputs:\n",
    "        temp.append(pto.value)\n",
    "    ptxov.append(temp)\n",
    "    \n",
    "with open(\"ptxov.pickle\", \"wb\") as f:\n",
    "    pickle.dump(ptxov, f, pickle.HIGHEST_PROTOCOL)"
   ]
  },
  {
   "cell_type": "code",
   "execution_count": null,
   "metadata": {},
   "outputs": [],
   "source": [
    "ptxs = block.txes.where(lambda t: t.output_count == 2)\n",
    "ptxss = ptxs.where(lambda t: t.input_count > 1)\n",
    "pic = ptxss.input_count\n",
    "\n",
    "with open(\"pic.pickle\", \"wb\") as f:\n",
    "    pickle.dump(pic, f, pickle.HIGHEST_PROTOCOL)"
   ]
  },
  {
   "cell_type": "code",
   "execution_count": null,
   "metadata": {},
   "outputs": [],
   "source": [
    "ptxs = block.txes.where(lambda t: t.output_count == 2)\n",
    "ptxss = ptxs.where(lambda t: t.input_count == 0)\n",
    "\n",
    "count = 0\n",
    "for ptx in ptxss:\n",
    "    count += 1\n",
    "    \n",
    "print(count)"
   ]
  },
  {
   "cell_type": "code",
   "execution_count": null,
   "metadata": {},
   "outputs": [],
   "source": [
    "ptxs = block.txes.where(lambda t: t.output_count == 2)\n",
    "ptxss = ptxs.where(lambda t: t.input_count == 1)\n",
    "\n",
    "count = 0\n",
    "for ptx in ptxss:\n",
    "    count += 1\n",
    "    \n",
    "print(count)"
   ]
  },
  {
   "cell_type": "code",
   "execution_count": null,
   "metadata": {},
   "outputs": [],
   "source": [
    "ptxs = block.txes.where(lambda t: t.output_count == 2)\n",
    "\n",
    "count = 0 # of transactions that have change address\n",
    "\n",
    "for ptx in ptxs:\n",
    "    if ptx.is_coinbase: #condition 2\n",
    "        continue\n",
    "        \n",
    "    # condtion 3\n",
    "    ptial = []\n",
    "    for ptia in ptx.inputs.address:\n",
    "        ptial.append(ptia)\n",
    "    flag = True    \n",
    "        \n",
    "    otc = 0\n",
    "    for ptxo in ptx.outputs:\n",
    "        ptxoa = ptxo.address\n",
    "        if ptxoa in ptial: #condition 3\n",
    "            flag = False\n",
    "            break\n",
    "        if ptxoa.first_tx == ptx: #condition 1\n",
    "            otc += 1\n",
    "    \n",
    "    if otc == 1 and flag: #condition 4\n",
    "        count += 1\n",
    "        \n",
    "print(count)"
   ]
  },
  {
   "cell_type": "code",
   "execution_count": null,
   "metadata": {},
   "outputs": [],
   "source": [
    "ptxs = block.txes.where(lambda t: t.output_count == 2)\n",
    "ptxs = ptxs.where(lambda t: t.input_count == 1)\n",
    "\n",
    "count = 0 # of transactions that have change address\n",
    "\n",
    "for ptx in ptxs:\n",
    "    if ptx.is_coinbase: #condition 2\n",
    "        continue\n",
    "        \n",
    "    # condtion 3\n",
    "    ptial = []\n",
    "    for ptia in ptx.inputs.address:\n",
    "        ptial.append(ptia)\n",
    "    flag = True    \n",
    "        \n",
    "    otc = 0\n",
    "    for ptxo in ptx.outputs:\n",
    "        ptxoa = ptxo.address\n",
    "        if ptxoa in ptial: #condition 3\n",
    "            flag = False\n",
    "            break\n",
    "        if ptxoa.first_tx == ptx: #condition 1\n",
    "            otc += 1\n",
    "    \n",
    "    if otc == 1 and flag: #condition 4\n",
    "        count += 1\n",
    "        \n",
    "print(count)"
   ]
  },
  {
   "cell_type": "code",
   "execution_count": null,
   "metadata": {},
   "outputs": [],
   "source": [
    "ptxs = block.txes.where(lambda t: t.output_count == 2)\n",
    "ptxss = ptxs.where(lambda t: t.input_count > 1)\n",
    "\n",
    "count = 0\n",
    "for ptx in ptxss:\n",
    "    #if ptx.is_coinbase: #condition 2\n",
    "    #    continue\n",
    "        \n",
    "    # condtion 3\n",
    "    ptial = []\n",
    "    for ptia in ptx.inputs.address:\n",
    "        ptial.append(ptia)\n",
    "    flag = True    \n",
    "        \n",
    "    otc = 0\n",
    "    for ptxo in ptx.outputs:\n",
    "        ptxoa = ptxo.address\n",
    "        if ptxoa in ptial: #condition 3\n",
    "            flag = False\n",
    "            break\n",
    "        if ptxoa.first_tx == ptx: #condition 1\n",
    "            otc += 1\n",
    "    \n",
    "    if otc == 1 and flag: #condition 4\n",
    "        count += 1\n",
    "    \n",
    "print(count)"
   ]
  },
  {
   "cell_type": "code",
   "execution_count": null,
   "metadata": {},
   "outputs": [],
   "source": [
    "ptxs = block.txes.where(lambda t: t.output_count == 2)\n",
    "ptxss = ptxs.where(lambda t: t.input_count == 0)\n",
    "\n",
    "count = 0\n",
    "for ptx in ptxss:\n",
    "    #if ptx.is_coinbase: #condition 2\n",
    "    #    continue\n",
    "        \n",
    "    # condtion 3\n",
    "    ptial = []\n",
    "    for ptia in ptx.inputs.address:\n",
    "        ptial.append(ptia)\n",
    "    flag = True    \n",
    "        \n",
    "    otc = 0\n",
    "    for ptxo in ptx.outputs:\n",
    "        ptxoa = ptxo.address\n",
    "        if ptxoa in ptial: #condition 3\n",
    "            flag = False\n",
    "            break\n",
    "        if ptxoa.first_tx == ptx: #condition 1\n",
    "            otc += 1\n",
    "    \n",
    "    if otc == 1 and flag: #condition 4\n",
    "        count += 1\n",
    "    \n",
    "print(count)"
   ]
  },
  {
   "cell_type": "markdown",
   "metadata": {},
   "source": [
    "Sweep"
   ]
  },
  {
   "cell_type": "code",
   "execution_count": null,
   "metadata": {},
   "outputs": [],
   "source": [
    "stxs = block.txes.where(lambda t: t.output_count == 1)\n",
    "stxss = stxs.where(lambda t: t.input_count > 1)"
   ]
  },
  {
   "cell_type": "code",
   "execution_count": null,
   "metadata": {},
   "outputs": [],
   "source": [
    "stxs = block.txes.where(lambda t: t.output_count == 1)\n",
    "stxss = stxs.where(lambda t: t.input_count > 1)\n",
    "count = 0\n",
    "\n",
    "for sto in stxss.outs:\n",
    "    stoa = sto.address\n",
    "    if stoa.first_tx.index == sto.tx_index:\n",
    "        count += 1\n",
    "print(count)"
   ]
  },
  {
   "cell_type": "code",
   "execution_count": null,
   "metadata": {},
   "outputs": [],
   "source": [
    "stxs = block.txes.where(lambda t: t.output_count == 1)\n",
    "stxss = stxs.where(lambda t: t.input_count > 1)\n",
    "sic = stxss.input_count\n",
    "with open(\"sic.pickle\", \"wb\") as f:\n",
    "    pickle.dump(sic, f, pickle.HIGHEST_PROTOCOL)"
   ]
  },
  {
   "cell_type": "code",
   "execution_count": null,
   "metadata": {},
   "outputs": [],
   "source": [
    "stxs = block.txes.where(lambda t: t.output_count == 1)\n",
    "stxss = stxs.where(lambda t: t.input_count > 1)\n",
    "\n",
    "siv = []\n",
    "for stx in stxss:\n",
    "    temp = []\n",
    "    for stxi in stx.inputs:\n",
    "        temp.append(stxi.value)\n",
    "    siv.append(temp)\n",
    "with open(\"siv.pickle\", \"wb\") as f:\n",
    "    pickle.dump(siv, f, pickle.HIGHEST_PROTOCOL)"
   ]
  },
  {
   "cell_type": "code",
   "execution_count": null,
   "metadata": {},
   "outputs": [],
   "source": [
    "stxs = block.txes.where(lambda t: t.output_count == 1)\n",
    "stxss = stxs.where(lambda t: t.input_count > 1)\n",
    "sov = stxss.output_value\n",
    "with open(\"sov.pickle\", \"wb\") as f:\n",
    "    pickle.dump(sov, f, pickle.HIGHEST_PROTOCOL)"
   ]
  },
  {
   "cell_type": "code",
   "execution_count": null,
   "metadata": {},
   "outputs": [],
   "source": [
    "with open('sweep_tx_input_count.txt', 'w') as filehandle:\n",
    "    for stxic in stxss.input_count:\n",
    "        filehandle.write('%d\\n' % stxic)"
   ]
  },
  {
   "cell_type": "markdown",
   "metadata": {},
   "source": [
    "Distribution"
   ]
  },
  {
   "cell_type": "code",
   "execution_count": null,
   "metadata": {},
   "outputs": [],
   "source": [
    "dtxs = block.txes.where(lambda t: t.input_count == 1)\n",
    "dtxss = dtxs.where(lambda t: t.output_count > 2)"
   ]
  },
  {
   "cell_type": "code",
   "execution_count": null,
   "metadata": {},
   "outputs": [],
   "source": [
    "dtxs = block.txes.where(lambda t: t.input_count == 1)\n",
    "dtxss = dtxs.where(lambda t: t.output_count > 2)\n",
    "dtxoc = dtxss.output_count\n",
    "\n",
    "with open(\"dtxoc.pickle\", \"wb\") as f:\n",
    "    pickle.dump(dtxoc, f, pickle.HIGHEST_PROTOCOL)"
   ]
  },
  {
   "cell_type": "code",
   "execution_count": null,
   "metadata": {},
   "outputs": [],
   "source": [
    "dtxs = block.txes.where(lambda t: t.input_count == 1)\n",
    "dtxss = dtxs.where(lambda t: t.output_count > 2)\n",
    "count = 0\n",
    "count_all = 0\n",
    "\n",
    "for dto in dtxss.outs:\n",
    "    dtoa = dto.address\n",
    "    if dtoa.first_tx.index == dto.tx_index:\n",
    "        count += 1\n",
    "    count_all += 1\n",
    "print(count/count_all)"
   ]
  },
  {
   "cell_type": "code",
   "execution_count": null,
   "metadata": {},
   "outputs": [],
   "source": [
    "dtxs = block.txes.where(lambda t: t.input_count == 1)\n",
    "dtxss = dtxs.where(lambda t: t.output_count > 2)\n",
    "dtxov = []\n",
    "for dtx in dtxss:\n",
    "    temp = []\n",
    "    for dto in dtx.outputs:\n",
    "        temp.append(dto.value)\n",
    "    dtxov.append(temp)\n",
    "\n",
    "with open(\"dtxov.pickle\", \"wb\") as f:\n",
    "    pickle.dump(dtxov, f, pickle.HIGHEST_PROTOCOL)"
   ]
  },
  {
   "cell_type": "markdown",
   "metadata": {},
   "source": [
    "MIMO"
   ]
  },
  {
   "cell_type": "code",
   "execution_count": null,
   "metadata": {},
   "outputs": [],
   "source": [
    "mtxs = block.txes.where(lambda t: t.input_count > 1)\n",
    "mtxs = mtxs.where(lambda t: t.output_count > 2)\n",
    "\n",
    "mtxoc = mtxs.output_count\n",
    "\n",
    "with open(\"mtxoc.pickle\", \"wb\") as f:\n",
    "    pickle.dump(mtxoc, f, pickle.HIGHEST_PROTOCOL)"
   ]
  },
  {
   "cell_type": "code",
   "execution_count": null,
   "metadata": {},
   "outputs": [],
   "source": [
    "mtxs = block.txes.where(lambda t: t.input_count > 1)\n",
    "mtxs = mtxs.where(lambda t: t.output_count > 2)\n",
    "\n",
    "feelist = mtxs.fee\n",
    "\n",
    "print(sum(feelist)/len(feelist))"
   ]
  },
  {
   "cell_type": "code",
   "execution_count": null,
   "metadata": {},
   "outputs": [],
   "source": [
    "mtxs = block.txes.where(lambda t: t.input_count > 1)\n",
    "mtxs = mtxs.where(lambda t: t.output_count > 2)\n",
    "\n",
    "mtxov = []\n",
    "\n",
    "for mtx in mtxs:\n",
    "    temp = []\n",
    "    for mto in mtx.outputs:\n",
    "        temp.append(mto.value)\n",
    "    mtxov.append(temp)\n",
    "        \n",
    "\n",
    "with open(\"mtxov.pickle\", \"wb\") as f:\n",
    "    pickle.dump(mtxov, f, pickle.HIGHEST_PROTOCOL)"
   ]
  },
  {
   "cell_type": "code",
   "execution_count": null,
   "metadata": {},
   "outputs": [],
   "source": [
    "mtxs = block.txes.where(lambda t: t.input_count > 1)\n",
    "mtxs = mtxs.where(lambda t: t.output_count > 2)\n",
    "\n",
    "mtxiv = []\n",
    "\n",
    "for mtx in mtxs:\n",
    "    temp = []\n",
    "    for mti in mtx.inputs:\n",
    "        temp.append(mti.value)\n",
    "    mtxiv.append(temp)\n",
    "        \n",
    "with open(\"mtxiv.pickle\", \"wb\") as f:\n",
    "    pickle.dump(mtxiv, f, pickle.HIGHEST_PROTOCOL)"
   ]
  },
  {
   "cell_type": "code",
   "execution_count": null,
   "metadata": {},
   "outputs": [],
   "source": [
    "with open(\"mtxiv.pickle\", \"wb\") as f:\n",
    "    pickle.dump(mtxiv, f, pickle.HIGHEST_PROTOCOL)"
   ]
  },
  {
   "cell_type": "code",
   "execution_count": null,
   "metadata": {},
   "outputs": [],
   "source": [
    "mtxs = block.txes.where(lambda t: t.input_count > 1)\n",
    "mtxs = mtxs.where(lambda t: t.output_count > 2)\n",
    "\n",
    "count = 0\n",
    "g_count = 0\n",
    "for mto in mtxs.outs:\n",
    "    mtoa = mto.address\n",
    "    if mtoa.first_tx.index == mto.tx_index:\n",
    "        g_count += 1\n",
    "    count += 1\n",
    "print(g_count/count)"
   ]
  },
  {
   "cell_type": "markdown",
   "metadata": {},
   "source": [
    "Transaction"
   ]
  },
  {
   "cell_type": "code",
   "execution_count": null,
   "metadata": {},
   "outputs": [],
   "source": [
    "txs = block.txes"
   ]
  },
  {
   "cell_type": "code",
   "execution_count": null,
   "metadata": {},
   "outputs": [],
   "source": [
    "txo = tx"
   ]
  },
  {
   "cell_type": "markdown",
   "metadata": {},
   "source": [
    "UTXO"
   ]
  },
  {
   "cell_type": "code",
   "execution_count": null,
   "metadata": {},
   "outputs": [],
   "source": [
    "A = []\n",
    "for tx in txs:\n",
    "    if tx.is_coinbase:\n",
    "        continue\n",
    "    for ti in tx.inputs:\n",
    "        if ti.spent_tx.block_time < min(data_t): \n",
    "            A.append(ti.address)\n",
    "print(len(list(set(A))))"
   ]
  },
  {
   "cell_type": "code",
   "execution_count": null,
   "metadata": {},
   "outputs": [],
   "source": [
    "cil = []\n",
    "for tx in txs:\n",
    "    if tx.is_coinbase:\n",
    "        continue\n",
    "    for ti in tx.inputs:\n",
    "        if ti.spent_tx.block_time > min(data_t):\n",
    "            break\n",
    "        cluster = cm.cluster_with_address(ti.address)\n",
    "        ci = cluster.index\n",
    "        if ci not in cil:\n",
    "            cil.append(ci)\n",
    "print(len(cil))"
   ]
  },
  {
   "cell_type": "code",
   "execution_count": null,
   "metadata": {},
   "outputs": [],
   "source": [
    "cil = []\n",
    "for tx in txs:\n",
    "    if tx.is_coinbase:\n",
    "        continue\n",
    "    for ti in tx.inputs:\n",
    "        if ti.spent_tx.block_time < min(data_t):\n",
    "            break\n",
    "        cluster = cm.cluster_with_address(ti.address)\n",
    "        ci = cluster.index\n",
    "        if ci not in cil:\n",
    "            cil.append(ci)\n",
    "print(len(cil))"
   ]
  },
  {
   "cell_type": "code",
   "execution_count": null,
   "metadata": {},
   "outputs": [],
   "source": [
    "count = 0\n",
    "for tx in txs:\n",
    "    if tx.is_coinbase:\n",
    "        continue\n",
    "    for ti in tx.inputs:\n",
    "        if ti.spent_tx.block_time < min(data_t): \n",
    "            count += 1\n",
    "print(count)"
   ]
  },
  {
   "cell_type": "code",
   "execution_count": null,
   "metadata": {},
   "outputs": [],
   "source": [
    "txs = block.txes\n",
    "utxo = []\n",
    "for tx in txs:\n",
    "    if tx.is_coinbase:\n",
    "        continue\n",
    "    for ti in tx.inputs:\n",
    "        if ti.spent_tx.block_time < min(data_t): \n",
    "            utxo.append(ti.value)\n",
    "with open(\"utxo.pickle\", \"wb\") as f:\n",
    "    pickle.dump(utxo, f, pickle.HIGHEST_PROTOCOL)"
   ]
  },
  {
   "cell_type": "markdown",
   "metadata": {},
   "source": [
    "Transaction Type"
   ]
  },
  {
   "cell_type": "code",
   "execution_count": null,
   "metadata": {},
   "outputs": [],
   "source": [
    "mining = 0\n",
    "relay = 0\n",
    "peel = 0\n",
    "distribution = 0\n",
    "sweep = 0\n",
    "mimo = 0\n",
    "\n",
    "for tx in txs:\n",
    "    count += 1\n",
    "    txic = tx.input_count\n",
    "    txoc = tx.output_count\n",
    "    \n",
    "    if txic == 0:\n",
    "        mining += 1\n",
    "        continue\n",
    "    else : \n",
    "        if txoc == 2:\n",
    "            peel += 1\n",
    "            continue\n",
    "        else : \n",
    "            if txic == 1:\n",
    "                if txoc == 1:\n",
    "                    relay += 1\n",
    "                    continue\n",
    "                else :\n",
    "                    distribution += 1\n",
    "                    #distribution_output.append(txoc)\n",
    "                    continue\n",
    "            else : \n",
    "                if txoc == 1:\n",
    "                    sweep += 1\n",
    "                    #sweep_input.append(txic)\n",
    "                    continue\n",
    "                else : \n",
    "                    mimo += 1\n",
    "                    #mimo_io.append((txic, txoc))\n",
    "\n",
    "print(\"mining : \" + str(mining))\n",
    "print(\"relay : \"+str(relay))\n",
    "print(\"peel : \"+str(peel))\n",
    "print(\"distribution : \"+str(distribution))\n",
    "print(\"sweep : \"+str(sweep))\n",
    "print(\"mimo : \"+str(mimo))\n",
    "print((mining + relay + peel + distribution + sweep + mimo == len(txs.input_count)))"
   ]
  },
  {
   "cell_type": "code",
   "execution_count": null,
   "metadata": {},
   "outputs": [],
   "source": [
    "print(\"mining : \" + str(mining/len(txs.input_count)))\n",
    "print(\"relay : \"+str(relay/len(txs.input_count)))\n",
    "print(\"peel : \"+str(peel/len(txs.input_count)))\n",
    "print(\"distribution : \"+str(distribution/len(txs.input_count)))\n",
    "print(\"sweep : \"+str(sweep/len(txs.input_count)))\n",
    "print(\"mimo : \"+str(mimo/len(txs.input_count)))"
   ]
  }
 ],
 "metadata": {
  "kernelspec": {
   "display_name": "Python 3",
   "language": "python",
   "name": "python3"
  },
  "language_info": {
   "codemirror_mode": {
    "name": "ipython",
    "version": 3
   },
   "file_extension": ".py",
   "mimetype": "text/x-python",
   "name": "python",
   "nbconvert_exporter": "python",
   "pygments_lexer": "ipython3",
   "version": "3.6.9"
  }
 },
 "nbformat": 4,
 "nbformat_minor": 2
}
